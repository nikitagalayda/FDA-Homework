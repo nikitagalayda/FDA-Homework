{
 "cells": [
  {
   "cell_type": "code",
   "execution_count": 76,
   "metadata": {},
   "outputs": [],
   "source": [
    "import pandas as pd\n",
    "import scipy as sp\n",
    "import numpy as np\n",
    "import matplotlib.pyplot as plt\n",
    "from sklearn.externals.six import StringIO   \n",
    "from sklearn.tree import export_graphviz\n",
    "from sklearn import linear_model, metrics, model_selection\n",
    "from sklearn.linear_model import LogisticRegression\n",
    "import random\n",
    "import pydotplus\n",
    "\n",
    "%matplotlib inline"
   ]
  },
  {
   "cell_type": "code",
   "execution_count": 56,
   "metadata": {},
   "outputs": [
    {
     "data": {
      "text/html": [
       "<div>\n",
       "<style scoped>\n",
       "    .dataframe tbody tr th:only-of-type {\n",
       "        vertical-align: middle;\n",
       "    }\n",
       "\n",
       "    .dataframe tbody tr th {\n",
       "        vertical-align: top;\n",
       "    }\n",
       "\n",
       "    .dataframe thead th {\n",
       "        text-align: right;\n",
       "    }\n",
       "</style>\n",
       "<table border=\"1\" class=\"dataframe\">\n",
       "  <thead>\n",
       "    <tr style=\"text-align: right;\">\n",
       "      <th></th>\n",
       "      <th>Date</th>\n",
       "      <th>Open Price</th>\n",
       "      <th>Close Price</th>\n",
       "      <th>High Price</th>\n",
       "      <th>Low Price</th>\n",
       "      <th>Volume</th>\n",
       "    </tr>\n",
       "  </thead>\n",
       "  <tbody>\n",
       "    <tr>\n",
       "      <th>0</th>\n",
       "      <td>02-Jan-2018</td>\n",
       "      <td>2683.73</td>\n",
       "      <td>2695.81</td>\n",
       "      <td>2695.89</td>\n",
       "      <td>2682.36</td>\n",
       "      <td>1846463232</td>\n",
       "    </tr>\n",
       "    <tr>\n",
       "      <th>1</th>\n",
       "      <td>03-Jan-2018</td>\n",
       "      <td>2697.85</td>\n",
       "      <td>2713.06</td>\n",
       "      <td>2714.37</td>\n",
       "      <td>2697.77</td>\n",
       "      <td>2090595328</td>\n",
       "    </tr>\n",
       "    <tr>\n",
       "      <th>2</th>\n",
       "      <td>04-Jan-2018</td>\n",
       "      <td>2719.31</td>\n",
       "      <td>2723.99</td>\n",
       "      <td>2729.29</td>\n",
       "      <td>2719.07</td>\n",
       "      <td>2100767744</td>\n",
       "    </tr>\n",
       "    <tr>\n",
       "      <th>3</th>\n",
       "      <td>05-Jan-2018</td>\n",
       "      <td>2731.33</td>\n",
       "      <td>2743.15</td>\n",
       "      <td>2743.45</td>\n",
       "      <td>2727.92</td>\n",
       "      <td>1918869120</td>\n",
       "    </tr>\n",
       "    <tr>\n",
       "      <th>4</th>\n",
       "      <td>08-Jan-2018</td>\n",
       "      <td>2742.67</td>\n",
       "      <td>2747.71</td>\n",
       "      <td>2748.51</td>\n",
       "      <td>2737.60</td>\n",
       "      <td>1894823936</td>\n",
       "    </tr>\n",
       "  </tbody>\n",
       "</table>\n",
       "</div>"
      ],
      "text/plain": [
       "          Date  Open Price  Close Price  High Price  Low Price      Volume\n",
       "0  02-Jan-2018     2683.73      2695.81     2695.89    2682.36  1846463232\n",
       "1  03-Jan-2018     2697.85      2713.06     2714.37    2697.77  2090595328\n",
       "2  04-Jan-2018     2719.31      2723.99     2729.29    2719.07  2100767744\n",
       "3  05-Jan-2018     2731.33      2743.15     2743.45    2727.92  1918869120\n",
       "4  08-Jan-2018     2742.67      2747.71     2748.51    2737.60  1894823936"
      ]
     },
     "execution_count": 56,
     "metadata": {},
     "output_type": "execute_result"
    }
   ],
   "source": [
    "train_data_file_name = 'train_data.csv'\n",
    "test_data_file_name = 'test_data.csv'\n",
    "\n",
    "train_data = pd.read_csv(train_data_file_name)\n",
    "test_data = pd.read_csv(test_data_file_name)\n",
    "\n",
    "test_data.head()"
   ]
  },
  {
   "cell_type": "code",
   "execution_count": 57,
   "metadata": {},
   "outputs": [
    {
     "data": {
      "text/html": [
       "<div>\n",
       "<style scoped>\n",
       "    .dataframe tbody tr th:only-of-type {\n",
       "        vertical-align: middle;\n",
       "    }\n",
       "\n",
       "    .dataframe tbody tr th {\n",
       "        vertical-align: top;\n",
       "    }\n",
       "\n",
       "    .dataframe thead th {\n",
       "        text-align: right;\n",
       "    }\n",
       "</style>\n",
       "<table border=\"1\" class=\"dataframe\">\n",
       "  <thead>\n",
       "    <tr style=\"text-align: right;\">\n",
       "      <th></th>\n",
       "      <th>Open Price</th>\n",
       "      <th>Close Price</th>\n",
       "    </tr>\n",
       "  </thead>\n",
       "  <tbody>\n",
       "    <tr>\n",
       "      <th>0</th>\n",
       "      <td>2683.73</td>\n",
       "      <td>2695.81</td>\n",
       "    </tr>\n",
       "    <tr>\n",
       "      <th>1</th>\n",
       "      <td>2697.85</td>\n",
       "      <td>2713.06</td>\n",
       "    </tr>\n",
       "    <tr>\n",
       "      <th>2</th>\n",
       "      <td>2719.31</td>\n",
       "      <td>2723.99</td>\n",
       "    </tr>\n",
       "    <tr>\n",
       "      <th>3</th>\n",
       "      <td>2731.33</td>\n",
       "      <td>2743.15</td>\n",
       "    </tr>\n",
       "    <tr>\n",
       "      <th>4</th>\n",
       "      <td>2742.67</td>\n",
       "      <td>2747.71</td>\n",
       "    </tr>\n",
       "  </tbody>\n",
       "</table>\n",
       "</div>"
      ],
      "text/plain": [
       "   Open Price  Close Price\n",
       "0     2683.73      2695.81\n",
       "1     2697.85      2713.06\n",
       "2     2719.31      2723.99\n",
       "3     2731.33      2743.15\n",
       "4     2742.67      2747.71"
      ]
     },
     "execution_count": 57,
     "metadata": {},
     "output_type": "execute_result"
    }
   ],
   "source": [
    "train_data.drop(columns=['Date', 'High Price', 'Low Price', 'Volume'], inplace=True)\n",
    "test_data.drop(columns=['Date', 'High Price', 'Low Price', 'Volume'], inplace=True)\n",
    "test_data.head()"
   ]
  },
  {
   "cell_type": "code",
   "execution_count": 49,
   "metadata": {},
   "outputs": [
    {
     "data": {
      "text/plain": [
       "array([[1.00000e+00, 9.02990e+02],\n",
       "       [1.00000e+00, 9.29170e+02],\n",
       "       [1.00000e+00, 9.31170e+02],\n",
       "       ...,\n",
       "       [1.00000e+00, 2.68210e+03],\n",
       "       [1.00000e+00, 2.68610e+03],\n",
       "       [1.00000e+00, 2.68915e+03]])"
      ]
     },
     "execution_count": 49,
     "metadata": {},
     "output_type": "execute_result"
    }
   ],
   "source": [
    "x_train = pd.DataFrame(data=[])\n",
    "x_train['Bias'] = []\n",
    "x_train['Open Price'] = train_data['Open Price']\n",
    "x_train['Bias'] = 1\n",
    "x_train = x_train.values\n",
    "y_train = train_data['Close Price'].values\n",
    "x_train"
   ]
  },
  {
   "cell_type": "code",
   "execution_count": 50,
   "metadata": {},
   "outputs": [
    {
     "data": {
      "text/plain": [
       "LinearRegression(copy_X=True, fit_intercept=True, n_jobs=None, normalize=True)"
      ]
     },
     "execution_count": 50,
     "metadata": {},
     "output_type": "execute_result"
    }
   ],
   "source": [
    "model = linear_model.LinearRegression(normalize=True)\n",
    "model.fit(x_train, y_train)"
   ]
  },
  {
   "cell_type": "code",
   "execution_count": 54,
   "metadata": {},
   "outputs": [
    {
     "name": "stdout",
     "output_type": "stream",
     "text": [
      "[0.        0.9994774]\n",
      "1.4903772840266356\n"
     ]
    }
   ],
   "source": [
    "print(model.coef_)\n",
    "print(model.intercept_)"
   ]
  },
  {
   "cell_type": "code",
   "execution_count": 73,
   "metadata": {},
   "outputs": [
    {
     "data": {
      "text/plain": [
       "array([2695.81, 2713.06, 2723.99, 2743.15, 2747.71, 2751.29, 2748.23,\n",
       "       2767.56, 2786.24, 2776.42, 2802.56, 2798.03, 2810.3 , 2832.97,\n",
       "       2839.13, 2837.54, 2839.25, 2872.87, 2853.53, 2822.43, 2823.81,\n",
       "       2821.98, 2762.13, 2648.94, 2695.14, 2681.66, 2581.  , 2619.55,\n",
       "       2656.  , 2662.94, 2698.63, 2731.2 , 2732.22, 2716.26, 2701.33,\n",
       "       2703.96, 2747.3 , 2779.6 , 2744.28, 2713.83, 2677.67, 2691.25,\n",
       "       2720.94, 2728.12, 2726.8 , 2738.97, 2786.57, 2783.02, 2765.31,\n",
       "       2749.48, 2747.33, 2752.01, 2712.92, 2716.94, 2711.93, 2643.69,\n",
       "       2588.26, 2658.55, 2612.62, 2605.  , 2640.87, 2581.88, 2614.45,\n",
       "       2644.69, 2662.84, 2604.47, 2613.16, 2656.87, 2642.19, 2663.99,\n",
       "       2656.3 , 2677.84, 2706.39, 2708.64, 2693.13, 2670.14, 2670.29,\n",
       "       2634.56, 2639.4 , 2666.94, 2669.91, 2648.05, 2654.8 , 2635.67,\n",
       "       2629.73, 2663.42, 2672.63, 2671.92, 2697.79, 2723.07, 2727.72,\n",
       "       2730.13, 2711.45, 2722.46, 2720.13, 2712.97, 2733.01, 2724.44,\n",
       "       2733.29, 2727.76, 2721.33, 2689.86, 2724.01, 2705.27, 2734.62,\n",
       "       2746.87, 2748.8 , 2772.35, 2770.37, 2779.03, 2782.  , 2786.85,\n",
       "       2775.63, 2782.49, 2779.66, 2773.75, 2762.59, 2767.32, 2749.76,\n",
       "       2754.88, 2717.07, 2723.06, 2699.63, 2716.31, 2718.37, 2726.71,\n",
       "       2713.22, 2736.61, 2759.82, 2784.17, 2793.84, 2774.02, 2798.29,\n",
       "       2801.31, 2798.43, 2809.55, 2815.62, 2804.49, 2801.83, 2806.98,\n",
       "       2820.4 , 2846.07, 2837.44, 2818.82, 2802.6 , 2816.29, 2813.36,\n",
       "       2827.22, 2840.35, 2850.4 , 2858.45, 2857.7 , 2853.58, 2833.28,\n",
       "       2821.93, 2839.96, 2818.37, 2840.69, 2850.13, 2857.05, 2862.96,\n",
       "       2861.82, 2856.98, 2874.69, 2896.74, 2897.52, 2914.04, 2901.13,\n",
       "       2901.52, 2896.72, 2888.6 , 2878.05, 2871.68, 2877.13, 2887.89,\n",
       "       2888.92, 2904.18, 2904.98, 2888.8 , 2904.31, 2907.95, 2930.75,\n",
       "       2929.67, 2919.37, 2915.56, 2905.97, 2914.  , 2913.98, 2924.59,\n",
       "       2923.43, 2925.51, 2901.61, 2885.57, 2884.43, 2880.34, 2785.68,\n",
       "       2728.37, 2767.13, 2750.79, 2809.92, 2809.21, 2768.78, 2767.78,\n",
       "       2755.88, 2740.69, 2656.1 , 2705.57, 2658.69, 2641.25, 2682.63,\n",
       "       2711.74, 2740.37, 2723.06, 2738.31, 2755.45, 2813.89, 2806.83,\n",
       "       2781.01, 2726.22, 2722.18, 2701.58, 2730.2 , 2736.27, 2690.73,\n",
       "       2641.89, 2649.93, 2632.56, 2673.45, 2682.17, 2743.79, 2737.76,\n",
       "       2760.17, 2790.37, 2700.06, 2700.06, 2695.95, 2633.08, 2637.72,\n",
       "       2636.78, 2651.07, 2650.54, 2599.95, 2545.94, 2546.16, 2506.96,\n",
       "       2467.42, 2416.62, 2351.1 , 2467.7 , 2488.83, 2485.74, 2506.85])"
      ]
     },
     "execution_count": 73,
     "metadata": {},
     "output_type": "execute_result"
    }
   ],
   "source": [
    "x_test = test_data['Open Price'].values\n",
    "x_test = pd.DataFrame(data=[])\n",
    "x_test['Bias'] = []\n",
    "x_test['Open Price'] = test_data['Open Price']\n",
    "x_test['Bias'] = 1\n",
    "x_test = x_test.values\n",
    "\n",
    "y_test = test_data['Close Price'].values\n",
    "y_test"
   ]
  },
  {
   "cell_type": "code",
   "execution_count": 74,
   "metadata": {},
   "outputs": [
    {
     "data": {
      "text/plain": [
       "array([2683.8178587 , 2697.93047958, 2719.37926458, 2731.39298292,\n",
       "       2742.72705663, 2751.20262498, 2745.60555154, 2753.02167385,\n",
       "       2770.22267989, 2798.98763945, 2785.02494018, 2802.4258417 ,\n",
       "       2802.62573718, 2809.18230893, 2835.0587788 , 2845.42335943,\n",
       "       2846.2429309 , 2847.48228288, 2867.22196152, 2832.74998601,\n",
       "       2832.42015846, 2816.46849917, 2808.94243435, 2741.11789802,\n",
       "       2614.90389201, 2691.03408553, 2685.09718977, 2601.91068581,\n",
       "       2636.86241047, 2646.37743532, 2651.31485367, 2713.53232179,\n",
       "       2727.20517262, 2723.05734141, 2720.59862701, 2710.4939105 ,\n",
       "       2715.87109891, 2757.4193744 , 2780.48731279, 2753.83125054,\n",
       "       2715.29140201, 2658.9908401 , 2681.14925405, 2730.24358391,\n",
       "       2710.25403592, 2732.81224083, 2752.9617052 , 2790.57203975,\n",
       "       2792.34111474, 2774.1006522 , 2754.32099447, 2750.62292809,\n",
       "       2741.43773079, 2715.12149086, 2715.06152221, 2691.44387126,\n",
       "       2646.81720537, 2619.47150372, 2667.66630393, 2611.42571066,\n",
       "       2614.53408537, 2633.56413506, 2592.305708  , 2584.17995675,\n",
       "       2657.46163968, 2645.92767049, 2617.30263777, 2638.52154296,\n",
       "       2643.99867911, 2653.93348446, 2676.99142806, 2670.19498175,\n",
       "       2692.82315007, 2710.1840725 , 2701.23874978, 2692.64324414,\n",
       "       2675.49221197, 2680.88938992, 2635.03336683, 2651.75462373,\n",
       "       2675.56217538, 2675.14239488, 2643.74880976, 2654.34327019,\n",
       "       2628.19694142, 2621.57040626, 2669.45536847, 2670.35489813,\n",
       "       2678.21079049, 2705.09673254, 2722.76749296, 2733.43191682,\n",
       "       2718.65964085, 2712.69276078, 2719.77905554, 2717.42028888,\n",
       "       2726.01579451, 2738.39931949, 2714.05205004, 2731.00318673,\n",
       "       2723.66702262, 2705.18668551, 2702.50808607, 2721.04839184,\n",
       "       2718.76958336, 2741.72757923, 2748.51403077, 2753.30152752,\n",
       "       2774.88024457, 2765.88494798, 2780.21745389, 2785.63462139,\n",
       "       2787.97339851, 2783.24587041, 2777.81870813, 2765.83497411,\n",
       "       2752.06217554, 2769.77291506, 2769.32315023, 2760.83758711,\n",
       "       2742.99691553, 2722.18779607, 2728.51448801, 2698.7700406 ,\n",
       "       2727.19517784, 2705.02676912, 2733.33196908, 2724.25671429,\n",
       "       2737.73966441, 2768.55355263, 2788.5930745 , 2779.85764202,\n",
       "       2783.17590699, 2796.95870033, 2801.45634863, 2789.37266687,\n",
       "       2811.37116443, 2809.39219918, 2804.57471811, 2799.1975297 ,\n",
       "       2820.69628857, 2817.74783024, 2835.49854885, 2842.35496382,\n",
       "       2819.01716654, 2809.75201104, 2821.18603249, 2800.5068451 ,\n",
       "       2829.63161652, 2840.29604037, 2855.91787213, 2856.78741746,\n",
       "       2857.18720842, 2839.64638006, 2835.46856453, 2827.89252584,\n",
       "       2827.96248926, 2831.45066539, 2838.3270699 , 2853.9289121 ,\n",
       "       2861.50495079, 2860.98522254, 2860.28558836, 2862.34451181,\n",
       "       2884.67283691, 2901.42407813, 2900.59451189, 2908.91016385,\n",
       "       2898.34568774, 2896.9364246 , 2891.56923097, 2888.62077264,\n",
       "       2868.25142324, 2881.37456149, 2871.55969343, 2888.27095555,\n",
       "       2896.82648209, 2906.35150171, 2903.80283434, 2890.71967518,\n",
       "       2906.57138673, 2919.69452499, 2936.7156251 , 2921.79342753,\n",
       "       2921.71346934, 2916.94596214, 2911.6187476 , 2909.99959422,\n",
       "       2926.25109673, 2923.76239801, 2931.64827469, 2919.31472358,\n",
       "       2902.51350849, 2877.51657873, 2882.49397618, 2873.88847577,\n",
       "       2776.90918369, 2770.58249176, 2763.87599841, 2767.09431563,\n",
       "       2811.6909972 , 2802.02605074, 2775.69981604, 2773.98071491,\n",
       "       2721.09836571, 2737.92956511, 2674.97248372, 2667.95615237,\n",
       "       2682.73842311, 2640.79035665, 2705.67642943, 2717.65016868,\n",
       "       2745.5056038 , 2726.43557502, 2738.45928814, 2774.17061562,\n",
       "       2806.40376175, 2794.13017929, 2773.97072014, 2730.11365185,\n",
       "       2737.95954944, 2693.60274244, 2718.60966698, 2730.80329125,\n",
       "       2654.70308206, 2657.84144109, 2633.47418209, 2650.0755017 ,\n",
       "       2663.84830026, 2691.53382423, 2737.03003545, 2737.8196226 ,\n",
       "       2790.53206065, 2782.46627804, 2782.46627804, 2663.60842569,\n",
       "       2691.34392352, 2630.97548859, 2664.53793967, 2658.33118502,\n",
       "       2658.80093939, 2629.79610526, 2590.8864501 , 2560.05257232,\n",
       "       2547.20928774, 2496.95556409, 2465.58196852, 2400.79584348,\n",
       "       2363.37540964, 2442.71392562, 2498.95451889, 2499.12443005])"
      ]
     },
     "execution_count": 74,
     "metadata": {},
     "output_type": "execute_result"
    }
   ],
   "source": [
    "test_pred = model.predict(x_test)\n",
    "test_pred"
   ]
  },
  {
   "cell_type": "code",
   "execution_count": 75,
   "metadata": {},
   "outputs": [
    {
     "data": {
      "text/plain": [
       "680.1849348383588"
      ]
     },
     "execution_count": 75,
     "metadata": {},
     "output_type": "execute_result"
    }
   ],
   "source": [
    "test_mse = metrics.mean_squared_error(y_test, test_pred)\n",
    "test_mse"
   ]
  },
  {
   "cell_type": "code",
   "execution_count": 80,
   "metadata": {},
   "outputs": [
    {
     "data": {
      "text/plain": [
       "[<matplotlib.lines.Line2D at 0x7f7a038a4be0>]"
      ]
     },
     "execution_count": 80,
     "metadata": {},
     "output_type": "execute_result"
    },
    {
     "data": {
      "image/png": "[encoded data removed]",
      "text/plain": [
       "<Figure size 432x288 with 1 Axes>"
      ]
     },
     "metadata": {
      "needs_background": "light"
     },
     "output_type": "display_data"
    }
   ],
   "source": [
    "plt.plot(y_test)\n",
    "plt.plot(test_pred)"
   ]
  },
  {
   "cell_type": "code",
   "execution_count": null,
   "metadata": {},
   "outputs": [],
   "source": []
  }
 ],
 "metadata": {
  "kernelspec": {
   "display_name": "Python 3",
   "language": "python",
   "name": "python3"
  },
  "language_info": {
   "codemirror_mode": {
    "name": "ipython",
    "version": 3
   },
   "file_extension": ".py",
   "mimetype": "text/x-python",
   "name": "python",
   "nbconvert_exporter": "python",
   "pygments_lexer": "ipython3",
   "version": "3.6.7"
  }
 },
 "nbformat": 4,
 "nbformat_minor": 2
}
