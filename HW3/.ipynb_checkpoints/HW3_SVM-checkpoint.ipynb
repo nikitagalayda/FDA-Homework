{
 "cells": [
  {
   "cell_type": "code",
   "execution_count": 7,
   "metadata": {},
   "outputs": [],
   "source": [
    "from sklearn import datasets\n",
    "import pandas as pd\n",
    "import numpy as np\n",
    "import matplotlib.pyplot as plt\n",
    "import random\n",
    "\n",
    "%matplotlib inline"
   ]
  },
  {
   "cell_type": "code",
   "execution_count": 8,
   "metadata": {},
   "outputs": [],
   "source": [
    "# DATA PREPROCESSING\n",
    "\n",
    "train_data_file_name = 'train_data.csv'\n",
    "test_data_file_name = 'test_data.csv'\n",
    "\n",
    "train_data = pd.read_csv(train_data_file_name)\n",
    "test_data = pd.read_csv(test_data_file_name)\n",
    "\n",
    "train_data = train_data[0:150]\n",
    "test_data = test_data[0:150]\n",
    "\n",
    "train_data.drop(['Date', 'Volume', 'High Price', 'Low Price'], axis=1, inplace=True)\n",
    "train_data['CPI'] = train_data['Close Price'] - train_data['Close Price'].shift(1)\n",
    "train_data['CPI'].iloc[0] = 0\n",
    "train_data['CPI'] = pd.Series(map(lambda x: 1 if x > 0 else 0, train_data['CPI']))\n",
    "\n",
    "\n",
    "\n",
    "test_data.drop(['Date', 'Volume', 'High Price', 'Low Price'], axis=1, inplace=True)\n",
    "test_data['CPI'] = test_data['Close Price'] - test_data['Close Price'].shift(1)\n",
    "test_data['CPI'].iloc[0] = 0\n",
    "test_data['CPI'] = pd.Series(map(lambda x: 1 if x > 0 else 0, test_data['CPI']))"
   ]
  },
  {
   "cell_type": "code",
   "execution_count": 9,
   "metadata": {},
   "outputs": [],
   "source": [
    "def split(train_d, test_d):\n",
    "    x_train = train_d.loc[:, train_d.columns != 'CPI']\n",
    "    y_train = train_d['CPI']\n",
    "    x_test = test_d.loc[:, test_d.columns != 'CPI']\n",
    "    y_test = test_d['CPI']\n",
    "    return x_train, y_train, x_test, y_test"
   ]
  },
  {
   "cell_type": "code",
   "execution_count": 10,
   "metadata": {},
   "outputs": [],
   "source": [
    "x_train, y_train, x_test, y_test = split(train_data, test_data)"
   ]
  },
  {
   "cell_type": "code",
   "execution_count": 11,
   "metadata": {},
   "outputs": [],
   "source": [
    "from sklearn.preprocessing import StandardScaler\n",
    "\n",
    "scaler = StandardScaler()\n",
    "scaler.fit(x_train)\n",
    "\n",
    "x_train_std = scaler.transform(x_train)\n",
    "x_test_std = scaler.transform(x_test)"
   ]
  },
  {
   "cell_type": "code",
   "execution_count": 12,
   "metadata": {},
   "outputs": [
    {
     "name": "stdout",
     "output_type": "stream",
     "text": [
      "The labels by model prediction : [1 1 1 1 1 1 1 1 1 0 1 1 1 1 1 0 1 1 0 0 0 1 0 0 1 0 0 1 1 1 1 1 1 1 0 1 1\n",
      " 1 0 0 0 1 1 1 1 1 1 0 0 0 1 1 0 1 1 0 0 1 0 1 1 0 1 1 1 0 1 1 1 1 0 1 1 1\n",
      " 0 0 1 0 1 1 1 0 1 0 1 1 1 1 1 1 1 1 1 1 1 1 1 0 1 1 1 0 1 0 1 1 1 1 1 1 1\n",
      " 1 0 1 1 1 1 1 0 1 0 1 0 1 0 1 0 1 1 1 1 1 1 1 1 1 1 1 1 1 1 1 1 0 0 1 0 1\n",
      " 1 1]\n",
      "Real labels in the testing set : [0 1 1 1 1 1 0 1 1 0 1 0 1 1 1 0 1 1 0 0 1 0 0 0 1 0 0 1 1 1 1 1 1 0 0 1 1\n",
      " 1 0 0 0 1 1 1 0 1 1 0 0 0 0 1 0 1 0 0 0 1 0 0 1 0 1 1 1 0 1 1 0 1 0 1 1 1\n",
      " 0 0 1 0 1 1 1 0 1 0 0 1 1 0 1 1 1 1 0 1 0 0 1 0 1 0 0 0 1 0 1 1 1 1 0 1 1\n",
      " 1 0 1 0 0 0 1 0 1 0 1 0 1 1 1 0 1 1 1 1 0 1 1 0 1 1 0 0 1 1 1 0 0 0 1 0 1\n",
      " 1 1]\n",
      "Penalty = 100.00, Train accuracy = 96.67 %, Test accuracy = 81.33 %\n"
     ]
    }
   ],
   "source": [
    "from sklearn.svm import SVC\n",
    "from sklearn.metrics import accuracy_score\n",
    "\n",
    "# penalty of 100 seemed to result in the most accurate model\n",
    "penalty = 100\n",
    "\n",
    "svm = SVC(C=penalty, kernel=\"linear\", probability=True)\n",
    "svm.fit(x_train, y_train.values)\n",
    "\n",
    "print(\"The labels by model prediction : %s\" % svm.predict(x_test))\n",
    "print(\"Real labels in the testing set : %s\" % y_test.values)\n",
    "acc_train = accuracy_score(y_train.values, svm.predict(x_train)) * 100\n",
    "acc_test = accuracy_score(y_test.values, svm.predict(x_test)) * 100\n",
    "\n",
    "print(\"Penalty = %.2f, Train accuracy = %.2f %%, Test accuracy = %.2f %%\" % (penalty, acc_train, acc_test))\n",
    "    \n"
   ]
  }
 ],
 "metadata": {
  "kernelspec": {
   "display_name": "Python 3",
   "language": "python",
   "name": "python3"
  },
  "language_info": {
   "codemirror_mode": {
    "name": "ipython",
    "version": 3
   },
   "file_extension": ".py",
   "mimetype": "text/x-python",
   "name": "python",
   "nbconvert_exporter": "python",
   "pygments_lexer": "ipython3",
   "version": "3.6.7"
  }
 },
 "nbformat": 4,
 "nbformat_minor": 2
}
