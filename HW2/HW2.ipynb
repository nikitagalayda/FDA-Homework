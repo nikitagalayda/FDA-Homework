{
 "cells": [
  {
   "cell_type": "markdown",
   "metadata": {},
   "source": [
    "### MY PROBLEM DESIGN\n",
    "\n",
    "Predicting if a person has a heart disease.\n",
    "\n",
    "#### My Attributes:\n",
    "\n",
    "1. Age\n",
    "2. Sex\n",
    "3. Weight\n",
    "4. Activity level (exercise)\n",
    "5. Smoking\n",
    "6. Family heart disease history\n",
    "\n",
    "#### My Rules:\n",
    "YES:\n",
    "1. If age > 60 AND Male\n",
    "2. If 50 < age < 60\n",
    "    * If Family heart disease history\n",
    "    * If Smoking\n",
    "    * If Weight > 100\n",
    "    * If Activity level = 0\n",
    "3. If 40 < age < 50\n",
    "    * If Activity level = 0 AND Weight > 100\n",
    "    * If Smoking AND Activity level = 0\n",
    "    * If Smoking AND Weight > 100\n",
    "4. If Family heart disease history AND Male \n",
    "\n",
    "NO:\n",
    "1. All other possibilities"
   ]
  },
  {
   "cell_type": "code",
   "execution_count": 61,
   "metadata": {},
   "outputs": [],
   "source": [
    "import pandas as pd\n",
    "import scipy as sp\n",
    "import numpy as np\n",
    "from sklearn.tree import DecisionTreeClassifier\n",
    "from sklearn.externals.six import StringIO   \n",
    "from sklearn.tree import export_graphviz\n",
    "import pydotplus"
   ]
  },
  {
   "cell_type": "code",
   "execution_count": 76,
   "metadata": {},
   "outputs": [],
   "source": [
    "# CODE I USED TO GENERATE DATA ACCORING TO MY RULES\n",
    "# DO NOT RUN AGAIN OR DATA WILL BE REPLACED\n",
    "\n",
    "age = np.random.randint(18, 80, size=1000)\n",
    "sex = np.random.randint(0, 2, size=1000)\n",
    "weight = np.random.randint(60, 200, size=1000)\n",
    "activity_level = np.random.randint(0, 3, size=1000)\n",
    "smoking = np.random.randint(0, 2, size=1000)\n",
    "family_hd = np.random.randint(0, 2, size=1000)\n",
    "\n",
    "data = pd.DataFrame({'age': age,\n",
    "                    'sex': sex,\n",
    "                    'weight': weight,\n",
    "                    'activity_level': activity_level,\n",
    "                    'smoking': smoking,\n",
    "                    'family_hd': family_hd,\n",
    "                    })\n",
    "\n",
    "# GENERATE DATA (I already generated data, which is in the file 'my_data.csv')\n",
    "\n",
    "#data.to_csv('my_data.csv', encoding='utf-8')"
   ]
  },
  {
   "cell_type": "code",
   "execution_count": 79,
   "metadata": {},
   "outputs": [
    {
     "data": {
      "text/plain": [
       "1    530\n",
       "0    470\n",
       "Name: disease, dtype: int64"
      ]
     },
     "execution_count": 79,
     "metadata": {},
     "output_type": "execute_result"
    }
   ],
   "source": [
    "h_data = pd.read_csv('./my_data.csv')\n",
    "\n",
    "conditions = [\n",
    "             #(h_data['weight'] > 150),\n",
    "             (h_data['age'] > 60) & (h_data['sex'] == 1),\n",
    "             (h_data['sex'] == 1) & (h_data['family_hd'] == 1),\n",
    "             (h_data['age'] < 60) & (h_data['age'] > 50) & ((h_data['activity_level'] == 0) | (h_data['weight'] >= 100) | (h_data['smoking'] == 1) | (h_data['family_hd'] == 1)),\n",
    "             (h_data['age'] < 50) & (h_data['age'] > 40) & (((h_data['activity_level'] == 0) & (h_data['weight'] >= 100)) | ((h_data['smoking'] == 1) | (h_data['activity_level'] == 0)) | ((h_data['smoking'] == 1) | (h_data['weight'] >= 100))),\n",
    "             ]\n",
    "choices = [1, 1, 1, 1]\n",
    "h_data['disease'] = np.select(conditions, choices, default=0)\n",
    "h_data['disease'].value_counts()"
   ]
  },
  {
   "cell_type": "code",
   "execution_count": 80,
   "metadata": {
    "scrolled": true
   },
   "outputs": [],
   "source": [
    "# Split data into training and testing portions\n",
    "\n",
    "data_train = h_data[:500]\n",
    "data_test = h_data[500:]"
   ]
  },
  {
   "cell_type": "code",
   "execution_count": 81,
   "metadata": {},
   "outputs": [
    {
     "data": {
      "text/plain": [
       "array([0, 1, 0, 0, 1, 0, 0, 0, 1, 0, 0, 1, 1, 0, 1, 0, 0, 0, 0, 1, 0, 1,\n",
       "       1, 0, 0, 1, 1, 1, 0, 1, 0, 1, 0, 0, 1, 1, 1, 1, 1, 0, 0, 1, 0, 1,\n",
       "       1, 1, 1, 0, 1, 0, 0, 0, 0, 1, 0, 1, 0, 1, 0, 0, 1, 1, 1, 0, 1, 1,\n",
       "       0, 1, 1, 0, 0, 0, 0, 0, 1, 1, 1, 0, 1, 0, 1, 1, 1, 1, 1, 1, 0, 0,\n",
       "       1, 0, 1, 0, 1, 1, 0, 0, 1, 0, 1, 1, 1, 0, 0, 1, 0, 1, 0, 1, 0, 0,\n",
       "       0, 1, 1, 0, 1, 0, 0, 0, 0, 0, 1, 1, 1, 0, 1, 0, 1, 1, 1, 1, 0, 1,\n",
       "       0, 1, 0, 1, 1, 1, 1, 1, 0, 0, 1, 1, 1, 1, 0, 1, 1, 1, 1, 1, 0, 1,\n",
       "       1, 1, 0, 0, 0, 0, 1, 0, 1, 0, 1, 0, 1, 0, 1, 1, 0, 0, 1, 0, 1, 1,\n",
       "       1, 0, 0, 0, 1, 1, 0, 0, 0, 1, 1, 0, 0, 1, 1, 1, 1, 0, 1, 1, 1, 1,\n",
       "       0, 1, 1, 0, 1, 0, 1, 0, 1, 1, 1, 1, 0, 1, 0, 0, 0, 1, 1, 0, 1, 0,\n",
       "       1, 1, 0, 1, 0, 0, 1, 0, 1, 0, 1, 1, 1, 1, 1, 0, 1, 0, 1, 1, 0, 0,\n",
       "       1, 0, 1, 0, 1, 1, 1, 0, 0, 1, 0, 1, 0, 1, 0, 1, 0, 0, 1, 0, 0, 0,\n",
       "       0, 1, 0, 0, 1, 0, 1, 0, 0, 1, 0, 0, 1, 0, 0, 0, 0, 0, 1, 1, 1, 1,\n",
       "       1, 1, 1, 0, 1, 0, 0, 1, 0, 0, 0, 1, 1, 0, 0, 1, 1, 0, 1, 0, 0, 1,\n",
       "       1, 0, 0, 1, 1, 1, 0, 1, 1, 0, 0, 0, 1, 1, 0, 0, 0, 1, 0, 1, 1, 0,\n",
       "       0, 1, 1, 0, 1, 0, 1, 0, 0, 1, 1, 0, 0, 1, 0, 1, 1, 1, 1, 1, 0, 1,\n",
       "       0, 1, 1, 0, 0, 1, 1, 0, 0, 0, 0, 0, 0, 0, 1, 0, 0, 1, 0, 1, 0, 1,\n",
       "       1, 0, 0, 0, 0, 1, 0, 1, 0, 1, 1, 0, 0, 1, 1, 1, 1, 1, 1, 0, 1, 1,\n",
       "       1, 0, 1, 0, 1, 1, 1, 0, 1, 1, 1, 0, 0, 0, 0, 0, 0, 0, 0, 0, 1, 1,\n",
       "       0, 0, 0, 0, 0, 1, 0, 1, 0, 0, 1, 1, 1, 1, 1, 1, 1, 1, 1, 1, 1, 0,\n",
       "       1, 1, 0, 1, 1, 0, 1, 0, 0, 1, 0, 0, 0, 0, 1, 1, 0, 1, 1, 0, 1, 0,\n",
       "       1, 0, 0, 1, 1, 1, 1, 1, 1, 0, 0, 0, 1, 1, 1, 0, 0, 1, 0, 1, 0, 1,\n",
       "       1, 1, 0, 0, 1, 0, 1, 1, 0, 0, 0, 0, 1, 0, 0, 0])"
      ]
     },
     "execution_count": 81,
     "metadata": {},
     "output_type": "execute_result"
    }
   ],
   "source": [
    "y = data_train['disease'].values\n",
    "data_train = data_train.drop('disease', 1)\n",
    "y"
   ]
  },
  {
   "cell_type": "code",
   "execution_count": 48,
   "metadata": {},
   "outputs": [
    {
     "data": {
      "text/plain": [
       "True"
      ]
     },
     "execution_count": 48,
     "metadata": {},
     "output_type": "execute_result"
    }
   ],
   "source": [
    "# Train the tree using the data produced\n",
    "\n",
    "dtree=DecisionTreeClassifier(max_depth=5)\n",
    "dtree.fit(data_train, y)\n",
    "\n",
    "dot_data = StringIO()\n",
    "export_graphviz(dtree, \n",
    "                out_file=dot_data,  \n",
    "                filled=True, \n",
    "                feature_names=list(data_train),\n",
    "                class_names=['poisonous','edible'],\n",
    "                special_characters=True)\n",
    "\n",
    "graph = pydotplus.graph_from_dot_data(dot_data.getvalue())  \n",
    "graph.write_pdf(\"hdisease_tree.pdf\")"
   ]
  },
  {
   "cell_type": "code",
   "execution_count": 49,
   "metadata": {},
   "outputs": [],
   "source": [
    "y_test = data_test['disease'].values\n",
    "X_test = data_test.drop('disease', 1)\n",
    "\n",
    "y_predict = dtree.predict(X_test)\n",
    "\n",
    "# y_predict"
   ]
  },
  {
   "cell_type": "code",
   "execution_count": 50,
   "metadata": {},
   "outputs": [
    {
     "data": {
      "text/plain": [
       "0.986"
      ]
     },
     "execution_count": 50,
     "metadata": {},
     "output_type": "execute_result"
    }
   ],
   "source": [
    "from sklearn.metrics import accuracy_score\n",
    "\n",
    "accuracy_score(y_test, y_predict)"
   ]
  },
  {
   "cell_type": "code",
   "execution_count": null,
   "metadata": {},
   "outputs": [],
   "source": []
  }
 ],
 "metadata": {
  "kernelspec": {
   "display_name": "Python 3",
   "language": "python",
   "name": "python3"
  },
  "language_info": {
   "codemirror_mode": {
    "name": "ipython",
    "version": 3
   },
   "file_extension": ".py",
   "mimetype": "text/x-python",
   "name": "python",
   "nbconvert_exporter": "python",
   "pygments_lexer": "ipython3",
   "version": "3.6.7"
  }
 },
 "nbformat": 4,
 "nbformat_minor": 2
}
