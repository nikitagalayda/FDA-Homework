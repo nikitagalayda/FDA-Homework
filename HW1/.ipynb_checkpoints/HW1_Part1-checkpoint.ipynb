{
 "cells": [
  {
   "cell_type": "code",
   "execution_count": 1,
   "metadata": {
    "scrolled": true
   },
   "outputs": [],
   "source": [
    "import numpy as np # linear algebra\n",
    "import pandas as pd # data processing, CSV file I/O (e.g. pd.read_csv)\n",
    "import scipy as sp\n",
    "import matplotlib.pyplot as plt\n",
    "import seaborn as sns\n",
    "import time\n",
    "import math\n",
    "\n",
    "# Input data files are available in the \"../input/\" directory.\n",
    "# For example, running this (by clicking run or pressing Shift+Enter) will list the files in the input directory\n",
    "\n",
    "import os\n",
    "%matplotlib inline"
   ]
  },
  {
   "cell_type": "code",
   "execution_count": 85,
   "metadata": {
    "collapsed": true
   },
   "outputs": [
    {
     "name": "stdout",
     "output_type": "stream",
     "text": [
      "                                               ProfileName  Score count  \\\n",
      "UserId                                                                    \n",
      "A1Z54EM24Y40LL                                          c2           17   \n",
      "A2SZLNSI5KOQJT  Carrie, \"Formerly &#34;Sister Carrie&#34;\"           10   \n",
      "A35R32TA60XD57                                    M. Torma            9   \n",
      "A281NPSIMI1C2R      Rebecca of Amazon \"The Rebecca Review\"            8   \n",
      "A3NHUQ33CFH3VM                                Citizen John            7   \n",
      "A3PJZ8TU8FDQ1K                                Jared Castle            7   \n",
      "A3OXHLG6DIBRW8                            C. F. Hill \"CFH\"            7   \n",
      "AP03SDCDB6RBD                        E. OConnor \"erdoreen\"            6   \n",
      "ABQN42N7ICNZQ                             T.O. Perspective            6   \n",
      "A3TX6CWSZL02PW                          LaVerne \":LaVerne\"            6   \n",
      "A26NFIQ7KWI8Y7                                     kt rose            6   \n",
      "AY12DBB0U420B                                Gary Peterson            6   \n",
      "AQ6SHOW0VMZGF                       K. Padgett \"familyof5\"            6   \n",
      "A2R6RA8FRBS608                          Matthew G. Sherwin            6   \n",
      "A10H24TDLK2VDP                         William Jens Jensen            6   \n",
      "AQQLWCMRNDFGI                           Steven A. Peterson            6   \n",
      "A35OY2ASP1MP5M                                    Lyn Barr            5   \n",
      "A1IU7S4HCK1XK0                              Joanna Daneman            5   \n",
      "A2158Y2U61AU9G                                   Lillian37            5   \n",
      "A1ZH9LWMX5UCFJ                       K. Stuckey \"kateling\"            5   \n",
      "A31N6KB160O508                                     Fran W.            5   \n",
      "AY1EF0GOH80EK                              Natasha Stryker            5   \n",
      "AZV26LP92E6WU                    M. Hammond \"ColemanFlGuy\"            4   \n",
      "AR7TAEEUDHMUB                              Kathryn S. Leon            4   \n",
      "A2TJG4N8LNJW23                              Blythe Dresser            4   \n",
      "A2TH3R48TMDRNC                              George Olijnyk            4   \n",
      "A121VLJBL8T0H1                                David Rupert            4   \n",
      "A1Z94P94HPWOU0                    M. Williams \"Lucasmommy\"            4   \n",
      "A1UC50DYFPSXYD                                         ATC            4   \n",
      "A22Z9R91N8L7IQ                 T. Coleman \"Rio Grande Tom\"            4   \n",
      "...                                                    ...          ...   \n",
      "AZZ7SCDDZR0R3                                Teri L. Eaton            1   \n",
      "A2005BAEUTSAJE                          slidehollowmisress            1   \n",
      "ACRO97CSXAIRT                                  ArcAngel527            1   \n",
      "A1S2VJ8A0CLBAJ                         Ima Rascal \"Rascal\"            1   \n",
      "A1AD4JN43A4PQN                                      Lesley            1   \n",
      "A2OQY819AAOIUC                                         bob            1   \n",
      "A735TH218KQN7                           C. Ward \"MrSmoofy\"            1   \n",
      "A3NDBP44MZ4U08                                Gesa Nichols            1   \n",
      "A2OQC8VQX8JAWW                            K. Johnson \"Ker\"            1   \n",
      "A1QY95B93MAV2G                                     Tiffany            1   \n",
      "A3NYMIC9CIETVL                                Birman Mommy            1   \n",
      "A3LJ6ZJ3MB6NNO                                   princess1            1   \n",
      "A17H97W857Q698                           Claudia's hobbies            1   \n",
      "A16XJ5P33M7S1S                                      ellenp            1   \n",
      "A37WXCXM9DXE4U                                   A. Meyers            1   \n",
      "A3V3UBAWP3FUTP                        C. Grange \"NYCTrain\"            1   \n",
      "ATVAXMCSYVATX                      M. Ellis \"Superchop728\"            1   \n",
      "A5AJKFDNSA4J5                            Marjorie Richmond            1   \n",
      "A16BZEC45QNMCA                 P. L. Watkins \"Shoppamania\"            1   \n",
      "A108GQ9A91JIP4                                   H Hulsing            1   \n",
      "A2A4HGFGKO6BKP                       Casperina \"Casperina\"            1   \n",
      "A3VIMB8ETZSZH0                                 Jenna Moore            1   \n",
      "A2RHFQS6K0ERIY                                    L. Segal            1   \n",
      "A1ACY29BTHNJU2                 W. Padget \"SharpsvilleBill\"            1   \n",
      "A3A2M1Z8HO7RZ5                                    K. Jones            1   \n",
      "A2E65ZXD654761                                   Barbara L            1   \n",
      "A12ZQSJ9TNH9ZE                     R. Caguioa \"silver pen\"            1   \n",
      "A2G18A5SOD4WQC             Paul James Vesely \"String bean\"            1   \n",
      "A2H0LXLB09PYZI                                       Sadie            1   \n",
      "A82WIMR4RSVLI                                   Emrose mom            1   \n",
      "\n",
      "                Score mean  \n",
      "UserId                      \n",
      "A1Z54EM24Y40LL    3.882353  \n",
      "A2SZLNSI5KOQJT    3.800000  \n",
      "A35R32TA60XD57    4.111111  \n",
      "A281NPSIMI1C2R    5.000000  \n",
      "A3NHUQ33CFH3VM    3.142857  \n",
      "A3PJZ8TU8FDQ1K    4.714286  \n",
      "A3OXHLG6DIBRW8    4.428571  \n",
      "AP03SDCDB6RBD     4.333333  \n",
      "ABQN42N7ICNZQ     4.333333  \n",
      "A3TX6CWSZL02PW    5.000000  \n",
      "A26NFIQ7KWI8Y7    2.666667  \n",
      "AY12DBB0U420B     4.500000  \n",
      "AQ6SHOW0VMZGF     2.666667  \n",
      "A2R6RA8FRBS608    5.000000  \n",
      "A10H24TDLK2VDP    3.000000  \n",
      "AQQLWCMRNDFGI     4.166667  \n",
      "A35OY2ASP1MP5M    4.200000  \n",
      "A1IU7S4HCK1XK0    4.400000  \n",
      "A2158Y2U61AU9G    4.200000  \n",
      "A1ZH9LWMX5UCFJ    5.000000  \n",
      "A31N6KB160O508    4.400000  \n",
      "AY1EF0GOH80EK     4.200000  \n",
      "AZV26LP92E6WU     5.000000  \n",
      "AR7TAEEUDHMUB     4.000000  \n",
      "A2TJG4N8LNJW23    4.000000  \n",
      "A2TH3R48TMDRNC    5.000000  \n",
      "A121VLJBL8T0H1    4.000000  \n",
      "A1Z94P94HPWOU0    3.500000  \n",
      "A1UC50DYFPSXYD    5.000000  \n",
      "A22Z9R91N8L7IQ    4.250000  \n",
      "...                    ...  \n",
      "AZZ7SCDDZR0R3     5.000000  \n",
      "A2005BAEUTSAJE    1.000000  \n",
      "ACRO97CSXAIRT     1.000000  \n",
      "A1S2VJ8A0CLBAJ    5.000000  \n",
      "A1AD4JN43A4PQN    5.000000  \n",
      "A2OQY819AAOIUC    3.000000  \n",
      "A735TH218KQN7     1.000000  \n",
      "A3NDBP44MZ4U08    1.000000  \n",
      "A2OQC8VQX8JAWW    5.000000  \n",
      "A1QY95B93MAV2G    5.000000  \n",
      "A3NYMIC9CIETVL    3.000000  \n",
      "A3LJ6ZJ3MB6NNO    2.000000  \n",
      "A17H97W857Q698    5.000000  \n",
      "A16XJ5P33M7S1S    5.000000  \n",
      "A37WXCXM9DXE4U    1.000000  \n",
      "A3V3UBAWP3FUTP    3.000000  \n",
      "ATVAXMCSYVATX     3.000000  \n",
      "A5AJKFDNSA4J5     5.000000  \n",
      "A16BZEC45QNMCA    4.000000  \n",
      "A108GQ9A91JIP4    1.000000  \n",
      "A2A4HGFGKO6BKP    2.000000  \n",
      "A3VIMB8ETZSZH0    1.000000  \n",
      "A2RHFQS6K0ERIY    5.000000  \n",
      "A1ACY29BTHNJU2    4.000000  \n",
      "A3A2M1Z8HO7RZ5    2.000000  \n",
      "A2E65ZXD654761    5.000000  \n",
      "A12ZQSJ9TNH9ZE    5.000000  \n",
      "A2G18A5SOD4WQC    5.000000  \n",
      "A2H0LXLB09PYZI    5.000000  \n",
      "A82WIMR4RSVLI     4.000000  \n",
      "\n",
      "[9015 rows x 3 columns]\n"
     ]
    }
   ],
   "source": [
    "#1\n",
    "\n",
    "pd_data_original = pd.read_csv('./Reviews.csv', index_col=False)\n",
    "pd_data_original = pd_data_original[:10000]\n",
    "\n",
    "pd_data = pd_data_original.copy()\n",
    "pd_data['Score count'] = pd_data.groupby('UserId')['UserId'].transform('count')\n",
    "pd_data['Score mean'] = pd_data.groupby('UserId')['Score'].transform('mean')\n",
    "pd_data = pd_data[['UserId', 'ProfileName', 'Score count', 'Score mean']]\n",
    "pd_data = pd_data.sort_values(by=['Score count'], ascending=False)\n",
    "pd_data = pd_data.drop_duplicates(subset='UserId')\n",
    "pd_data.set_index('UserId', inplace=True)\n",
    "print(pd_data)"
   ]
  },
  {
   "cell_type": "code",
   "execution_count": 94,
   "metadata": {},
   "outputs": [
    {
     "data": {
      "text/plain": [
       "Text(0.5, 1.0, 'Review distribution of the user with most reviews')"
      ]
     },
     "execution_count": 94,
     "metadata": {},
     "output_type": "execute_result"
    },
    {
     "data": {
      "image/png": "[encoded data removed]",
      "text/plain": [
       "<Figure size 432x288 with 1 Axes>"
      ]
     },
     "metadata": {
      "needs_background": "light"
     },
     "output_type": "display_data"
    }
   ],
   "source": [
    "#2\n",
    "\n",
    "# Find the user with most reviews by getting the top user from previously generated table, and finding that UserId\n",
    "# in the original data table (in order to find all of their reviews)\n",
    "\n",
    "most_reviews_user = pd_data.iloc[0].name\n",
    "mru_reviews_values = pd_data_original.loc[pd_data_original['UserId'] == most_reviews_user].Score.values\n",
    "values, count = np.unique(mru_reviews_values, return_counts=True)\n",
    "colors = ['xkcd:blue', 'xkcd:orange', 'xkcd:green', 'xkcd:red', 'xkcd:purple']\n",
    "\n",
    "mru_plot = plt.subplot()\n",
    "plot1 = mru_plot.bar(values, height=count, color=colors)\n",
    "mru_plot.set_xlabel('Review value')\n",
    "mru_plot.set_ylabel('Amount of reviews')\n",
    "mru_plot.set_title('Review distribution of the user with most reviews')"
   ]
  },
  {
   "cell_type": "code",
   "execution_count": 95,
   "metadata": {},
   "outputs": [
    {
     "data": {
      "text/plain": [
       "Text(0.5, 1.0, 'Amount of reviews in a given year')"
      ]
     },
     "execution_count": 95,
     "metadata": {},
     "output_type": "execute_result"
    },
    {
     "data": {
      "image/png": "[encoded data removed]",
      "text/plain": [
       "<Figure size 432x288 with 1 Axes>"
      ]
     },
     "metadata": {
      "needs_background": "light"
     },
     "output_type": "display_data"
    }
   ],
   "source": [
    "#3\n",
    "\n",
    "review_years = pd_data_original['Time'].values\n",
    "\n",
    "# 1970 is the start of the time. 365.25 accounts for leap years.\n",
    "review_years = [1970 + math.floor(x / 60 / 60 / 24 / 365.25) for x in review_years]\n",
    "review_years, review_count = np.unique(review_years, return_counts=True)\n",
    "\n",
    "year_plot = plt.subplot()\n",
    "year_reviews_plot = year_plot.bar(review_years, height=review_count)\n",
    "year_plot.set_xlabel('Review year')\n",
    "year_plot.set_ylabel('Amount of reviews')\n",
    "year_plot.set_title('Amount of reviews in a given year')"
   ]
  },
  {
   "cell_type": "code",
   "execution_count": 96,
   "metadata": {},
   "outputs": [
    {
     "data": {
      "text/plain": [
       "<matplotlib.axes._subplots.AxesSubplot at 0x7fd59df18748>"
      ]
     },
     "execution_count": 96,
     "metadata": {},
     "output_type": "execute_result"
    },
    {
     "data": {
      "image/png": "[encoded data removed]",
      "text/plain": [
       "<Figure size 720x576 with 2 Axes>"
      ]
     },
     "metadata": {
      "needs_background": "light"
     },
     "output_type": "display_data"
    }
   ],
   "source": [
    "#4\n",
    "#pd_data_original = pd_data_original.drop(columns=['Score count', 'Score mean'])\n",
    "plt.figure(figsize=(10,8))\n",
    "sns.heatmap(pd_data_original.corr(), annot=True)"
   ]
  },
  {
   "cell_type": "code",
   "execution_count": 97,
   "metadata": {},
   "outputs": [
    {
     "data": {
      "text/plain": [
       "(array([4878.,    0.,    0.,    0.,    0.,  689.,  225.,  422.,  317.,\n",
       "        3469.]),\n",
       " array([-1. , -0.8, -0.6, -0.4, -0.2,  0. ,  0.2,  0.4,  0.6,  0.8,  1. ]),\n",
       " <a list of 10 Patch objects>)"
      ]
     },
     "execution_count": 97,
     "metadata": {},
     "output_type": "execute_result"
    },
    {
     "data": {
      "image/png": "[encoded data removed]",
      "text/plain": [
       "<Figure size 432x288 with 1 Axes>"
      ]
     },
     "metadata": {
      "needs_background": "light"
     },
     "output_type": "display_data"
    }
   ],
   "source": [
    "#5\n",
    "\n",
    "helpful_frame = pd_data_original[['HelpfulnessNumerator', 'HelpfulnessDenominator']]\n",
    "\n",
    "# Filter out rows where Numerator > Denominator.\n",
    "helpful_frame = helpful_frame[helpful_frame.HelpfulnessNumerator <= helpful_frame.HelpfulnessDenominator]\n",
    "\n",
    "# Anytime we divide by zero, it means that the comment was only upvoted (no comments).\n",
    "helpful_comm = [x/y if y!=0 else -1.0 for x,y in zip(helpful_frame['HelpfulnessNumerator'], helpful_frame['HelpfulnessDenominator'])]\n",
    "\n",
    "\n",
    "#print(helpful_comm)\n",
    "plt.hist(helpful_comm)"
   ]
  },
  {
   "cell_type": "code",
   "execution_count": null,
   "metadata": {},
   "outputs": [],
   "source": []
  }
 ],
 "metadata": {
  "kernelspec": {
   "display_name": "Python 3",
   "language": "python",
   "name": "python3"
  },
  "language_info": {
   "codemirror_mode": {
    "name": "ipython",
    "version": 3
   },
   "file_extension": ".py",
   "mimetype": "text/x-python",
   "name": "python",
   "nbconvert_exporter": "python",
   "pygments_lexer": "ipython3",
   "version": "3.6.7"
  }
 },
 "nbformat": 4,
 "nbformat_minor": 2
}
